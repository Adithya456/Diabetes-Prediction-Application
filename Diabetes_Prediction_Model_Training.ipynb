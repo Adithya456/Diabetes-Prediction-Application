{
 "cells": [
  {
   "cell_type": "markdown",
   "id": "a6acc8d4",
   "metadata": {},
   "source": [
    "# Diabetes Prediction"
   ]
  },
  {
   "cell_type": "code",
   "execution_count": 1,
   "id": "0118652c",
   "metadata": {},
   "outputs": [],
   "source": [
    "import pandas as pd\n",
    "import numpy as np\n",
    "import matplotlib.pyplot as plt\n",
    "import seaborn as sns\n",
    "from sklearn.model_selection import train_test_split\n",
    "from sklearn.preprocessing import StandardScaler\n",
    "from imblearn.over_sampling import SMOTE\n",
    "\n",
    "from sklearn.metrics import accuracy_score, classification_report, recall_score, f1_score, precision_score\n",
    "from sklearn.linear_model import LogisticRegression\n",
    "from sklearn.tree import DecisionTreeClassifier\n",
    "from sklearn.ensemble import RandomForestClassifier\n",
    "from sklearn.svm import SVC\n",
    "from sklearn.neighbors import KNeighborsClassifier\n",
    "from sklearn.ensemble import GradientBoostingClassifier\n",
    "from xgboost import XGBClassifier\n",
    "\n",
    "# Cross validation and Grid Search libraries\n",
    "from sklearn.model_selection import cross_val_score, KFold\n",
    "from sklearn.model_selection import GridSearchCV"
   ]
  },
  {
   "cell_type": "code",
   "execution_count": 2,
   "id": "ae5af4a1",
   "metadata": {},
   "outputs": [
    {
     "data": {
      "text/html": [
       "<div>\n",
       "<style scoped>\n",
       "    .dataframe tbody tr th:only-of-type {\n",
       "        vertical-align: middle;\n",
       "    }\n",
       "\n",
       "    .dataframe tbody tr th {\n",
       "        vertical-align: top;\n",
       "    }\n",
       "\n",
       "    .dataframe thead th {\n",
       "        text-align: right;\n",
       "    }\n",
       "</style>\n",
       "<table border=\"1\" class=\"dataframe\">\n",
       "  <thead>\n",
       "    <tr style=\"text-align: right;\">\n",
       "      <th></th>\n",
       "      <th>Pregnancies</th>\n",
       "      <th>Glucose</th>\n",
       "      <th>BloodPressure</th>\n",
       "      <th>SkinThickness</th>\n",
       "      <th>Insulin</th>\n",
       "      <th>BMI</th>\n",
       "      <th>DiabetesPedigreeFunction</th>\n",
       "      <th>Age</th>\n",
       "      <th>Outcome</th>\n",
       "    </tr>\n",
       "  </thead>\n",
       "  <tbody>\n",
       "    <tr>\n",
       "      <th>0</th>\n",
       "      <td>6</td>\n",
       "      <td>148</td>\n",
       "      <td>72</td>\n",
       "      <td>35</td>\n",
       "      <td>0</td>\n",
       "      <td>33.6</td>\n",
       "      <td>0.627</td>\n",
       "      <td>50</td>\n",
       "      <td>1</td>\n",
       "    </tr>\n",
       "    <tr>\n",
       "      <th>1</th>\n",
       "      <td>1</td>\n",
       "      <td>85</td>\n",
       "      <td>66</td>\n",
       "      <td>29</td>\n",
       "      <td>0</td>\n",
       "      <td>26.6</td>\n",
       "      <td>0.351</td>\n",
       "      <td>31</td>\n",
       "      <td>0</td>\n",
       "    </tr>\n",
       "    <tr>\n",
       "      <th>2</th>\n",
       "      <td>8</td>\n",
       "      <td>183</td>\n",
       "      <td>64</td>\n",
       "      <td>0</td>\n",
       "      <td>0</td>\n",
       "      <td>23.3</td>\n",
       "      <td>0.672</td>\n",
       "      <td>32</td>\n",
       "      <td>1</td>\n",
       "    </tr>\n",
       "    <tr>\n",
       "      <th>3</th>\n",
       "      <td>1</td>\n",
       "      <td>89</td>\n",
       "      <td>66</td>\n",
       "      <td>23</td>\n",
       "      <td>94</td>\n",
       "      <td>28.1</td>\n",
       "      <td>0.167</td>\n",
       "      <td>21</td>\n",
       "      <td>0</td>\n",
       "    </tr>\n",
       "    <tr>\n",
       "      <th>4</th>\n",
       "      <td>0</td>\n",
       "      <td>137</td>\n",
       "      <td>40</td>\n",
       "      <td>35</td>\n",
       "      <td>168</td>\n",
       "      <td>43.1</td>\n",
       "      <td>2.288</td>\n",
       "      <td>33</td>\n",
       "      <td>1</td>\n",
       "    </tr>\n",
       "    <tr>\n",
       "      <th>...</th>\n",
       "      <td>...</td>\n",
       "      <td>...</td>\n",
       "      <td>...</td>\n",
       "      <td>...</td>\n",
       "      <td>...</td>\n",
       "      <td>...</td>\n",
       "      <td>...</td>\n",
       "      <td>...</td>\n",
       "      <td>...</td>\n",
       "    </tr>\n",
       "    <tr>\n",
       "      <th>763</th>\n",
       "      <td>10</td>\n",
       "      <td>101</td>\n",
       "      <td>76</td>\n",
       "      <td>48</td>\n",
       "      <td>180</td>\n",
       "      <td>32.9</td>\n",
       "      <td>0.171</td>\n",
       "      <td>63</td>\n",
       "      <td>0</td>\n",
       "    </tr>\n",
       "    <tr>\n",
       "      <th>764</th>\n",
       "      <td>2</td>\n",
       "      <td>122</td>\n",
       "      <td>70</td>\n",
       "      <td>27</td>\n",
       "      <td>0</td>\n",
       "      <td>36.8</td>\n",
       "      <td>0.340</td>\n",
       "      <td>27</td>\n",
       "      <td>0</td>\n",
       "    </tr>\n",
       "    <tr>\n",
       "      <th>765</th>\n",
       "      <td>5</td>\n",
       "      <td>121</td>\n",
       "      <td>72</td>\n",
       "      <td>23</td>\n",
       "      <td>112</td>\n",
       "      <td>26.2</td>\n",
       "      <td>0.245</td>\n",
       "      <td>30</td>\n",
       "      <td>0</td>\n",
       "    </tr>\n",
       "    <tr>\n",
       "      <th>766</th>\n",
       "      <td>1</td>\n",
       "      <td>126</td>\n",
       "      <td>60</td>\n",
       "      <td>0</td>\n",
       "      <td>0</td>\n",
       "      <td>30.1</td>\n",
       "      <td>0.349</td>\n",
       "      <td>47</td>\n",
       "      <td>1</td>\n",
       "    </tr>\n",
       "    <tr>\n",
       "      <th>767</th>\n",
       "      <td>1</td>\n",
       "      <td>93</td>\n",
       "      <td>70</td>\n",
       "      <td>31</td>\n",
       "      <td>0</td>\n",
       "      <td>30.4</td>\n",
       "      <td>0.315</td>\n",
       "      <td>23</td>\n",
       "      <td>0</td>\n",
       "    </tr>\n",
       "  </tbody>\n",
       "</table>\n",
       "<p>768 rows × 9 columns</p>\n",
       "</div>"
      ],
      "text/plain": [
       "     Pregnancies  Glucose  BloodPressure  SkinThickness  Insulin   BMI  \\\n",
       "0              6      148             72             35        0  33.6   \n",
       "1              1       85             66             29        0  26.6   \n",
       "2              8      183             64              0        0  23.3   \n",
       "3              1       89             66             23       94  28.1   \n",
       "4              0      137             40             35      168  43.1   \n",
       "..           ...      ...            ...            ...      ...   ...   \n",
       "763           10      101             76             48      180  32.9   \n",
       "764            2      122             70             27        0  36.8   \n",
       "765            5      121             72             23      112  26.2   \n",
       "766            1      126             60              0        0  30.1   \n",
       "767            1       93             70             31        0  30.4   \n",
       "\n",
       "     DiabetesPedigreeFunction  Age  Outcome  \n",
       "0                       0.627   50        1  \n",
       "1                       0.351   31        0  \n",
       "2                       0.672   32        1  \n",
       "3                       0.167   21        0  \n",
       "4                       2.288   33        1  \n",
       "..                        ...  ...      ...  \n",
       "763                     0.171   63        0  \n",
       "764                     0.340   27        0  \n",
       "765                     0.245   30        0  \n",
       "766                     0.349   47        1  \n",
       "767                     0.315   23        0  \n",
       "\n",
       "[768 rows x 9 columns]"
      ]
     },
     "execution_count": 2,
     "metadata": {},
     "output_type": "execute_result"
    }
   ],
   "source": [
    "my_data = pd.read_csv('diabetes.csv')\n",
    "my_data"
   ]
  },
  {
   "cell_type": "markdown",
   "id": "bb3da793",
   "metadata": {},
   "source": [
    "## Data Pre-processing"
   ]
  },
  {
   "cell_type": "markdown",
   "id": "28e2ea2a",
   "metadata": {},
   "source": [
    "### Data Cleaning"
   ]
  },
  {
   "cell_type": "code",
   "execution_count": 3,
   "id": "cef727eb",
   "metadata": {},
   "outputs": [
    {
     "data": {
      "text/plain": [
       "0"
      ]
     },
     "execution_count": 3,
     "metadata": {},
     "output_type": "execute_result"
    }
   ],
   "source": [
    "# Checking for duplicates\n",
    "my_data.duplicated().sum()"
   ]
  },
  {
   "cell_type": "code",
   "execution_count": 4,
   "id": "111cd31c",
   "metadata": {},
   "outputs": [
    {
     "data": {
      "text/plain": [
       "Pregnancies                 0\n",
       "Glucose                     0\n",
       "BloodPressure               0\n",
       "SkinThickness               0\n",
       "Insulin                     0\n",
       "BMI                         0\n",
       "DiabetesPedigreeFunction    0\n",
       "Age                         0\n",
       "Outcome                     0\n",
       "dtype: int64"
      ]
     },
     "execution_count": 4,
     "metadata": {},
     "output_type": "execute_result"
    }
   ],
   "source": [
    "# Checking for na values\n",
    "my_data.isna().sum()"
   ]
  },
  {
   "cell_type": "code",
   "execution_count": 5,
   "id": "fc1bd38e",
   "metadata": {},
   "outputs": [
    {
     "data": {
      "text/plain": [
       "Pregnancies                 0\n",
       "Glucose                     0\n",
       "BloodPressure               0\n",
       "SkinThickness               0\n",
       "Insulin                     0\n",
       "BMI                         0\n",
       "DiabetesPedigreeFunction    0\n",
       "Age                         0\n",
       "Outcome                     0\n",
       "dtype: int64"
      ]
     },
     "execution_count": 5,
     "metadata": {},
     "output_type": "execute_result"
    }
   ],
   "source": [
    "# Checking for null values\n",
    "my_data.isnull().sum()"
   ]
  },
  {
   "cell_type": "code",
   "execution_count": 6,
   "id": "31021139",
   "metadata": {},
   "outputs": [
    {
     "data": {
      "text/plain": [
       "array([1, 0], dtype=int64)"
      ]
     },
     "execution_count": 6,
     "metadata": {},
     "output_type": "execute_result"
    }
   ],
   "source": [
    "# Checking for unique values in target variable\n",
    "my_data['Outcome'].unique()"
   ]
  },
  {
   "cell_type": "markdown",
   "id": "8d967d46",
   "metadata": {},
   "source": [
    "### Checking class imbalance"
   ]
  },
  {
   "cell_type": "code",
   "execution_count": 7,
   "id": "fb852a53",
   "metadata": {},
   "outputs": [
    {
     "data": {
      "image/png": "[encoded data removed]",
      "text/plain": [
       "<Figure size 800x400 with 1 Axes>"
      ]
     },
     "metadata": {},
     "output_type": "display_data"
    }
   ],
   "source": [
    "#Setting figure size\n",
    "plt.figure(figsize=(8,4))\n",
    "#Plotting the countplot\n",
    "sns.countplot(x='Outcome', data=my_data)\n",
    "#Setting rotation for x-axis values\n",
    "#plt.xticks(rotation=90)\n",
    "plt.xlabel(\"Outcome\") \n",
    "plt.ylabel(\"Number of patients\")\n",
    "plt.title(\"Number of patients with and without Diabetes\")\n",
    "plt.show() "
   ]
  },
  {
   "cell_type": "markdown",
   "id": "2f3823fd",
   "metadata": {},
   "source": [
    "### Split the data into train and validation sets"
   ]
  },
  {
   "cell_type": "code",
   "execution_count": 8,
   "id": "8287f14d",
   "metadata": {},
   "outputs": [],
   "source": [
    "X = my_data.drop('Outcome', axis=1)\n",
    "y = my_data['Outcome']\n",
    "\n",
    "# Split the data\n",
    "X_train, X_test, y_train, y_test = train_test_split(X, y, test_size=0.2, random_state=42)"
   ]
  },
  {
   "cell_type": "code",
   "execution_count": 9,
   "id": "aba11548",
   "metadata": {},
   "outputs": [],
   "source": [
    "X_test.to_csv('X_test.csv', index=False)"
   ]
  },
  {
   "cell_type": "markdown",
   "id": "13eab185",
   "metadata": {},
   "source": [
    "### Oversampling using SMOTE"
   ]
  },
  {
   "cell_type": "code",
   "execution_count": 10,
   "id": "32312364",
   "metadata": {},
   "outputs": [],
   "source": [
    "smote = SMOTE(random_state=42)\n",
    "X_train_resampled, y_train_resampled = smote.fit_resample(X_train, y_train)"
   ]
  },
  {
   "cell_type": "code",
   "execution_count": 11,
   "id": "7e9571ea",
   "metadata": {},
   "outputs": [
    {
     "data": {
      "image/png": "[encoded data removed]",
      "text/plain": [
       "<Figure size 800x400 with 1 Axes>"
      ]
     },
     "metadata": {},
     "output_type": "display_data"
    }
   ],
   "source": [
    "#Setting figure size\n",
    "plt.figure(figsize=(8,4))\n",
    "#Plotting the countplot\n",
    "sns.countplot(x=y_train_resampled)\n",
    "#Setting rotation for x-axis values\n",
    "#plt.xticks(rotation=90)\n",
    "plt.xlabel(\"Outcome\") \n",
    "plt.ylabel(\"Number of patients\")\n",
    "plt.title(\"Number of patients with and without Diabetes\")\n",
    "plt.show() "
   ]
  },
  {
   "cell_type": "markdown",
   "id": "9d7011c5",
   "metadata": {},
   "source": [
    "### Scaling Data"
   ]
  },
  {
   "cell_type": "code",
   "execution_count": 12,
   "id": "48d59f61",
   "metadata": {},
   "outputs": [],
   "source": [
    "# Initialize the scaler\n",
    "scaler = StandardScaler()\n",
    "\n",
    "# Fit the scaler on training data and transform training set\n",
    "X_train_resampled_scaled = scaler.fit_transform(X_train_resampled)\n",
    "\n",
    "# Transform the test set using the same scaler\n",
    "X_test_scaled = scaler.transform(X_test)"
   ]
  },
  {
   "cell_type": "markdown",
   "id": "87aeaa8f",
   "metadata": {},
   "source": [
    "## Machine Learing Models"
   ]
  },
  {
   "cell_type": "markdown",
   "id": "282dd72c",
   "metadata": {},
   "source": [
    "### Logistic Regression"
   ]
  },
  {
   "cell_type": "code",
   "execution_count": 13,
   "id": "02278764",
   "metadata": {},
   "outputs": [],
   "source": [
    "# Logistic Regression\n",
    "model_LogisticRegression = LogisticRegression()\n",
    "model_LogisticRegression.fit(X_train_resampled_scaled, y_train_resampled)\n",
    "y_pred_LogisticRegression = model_LogisticRegression.predict(X_test_scaled)"
   ]
  },
  {
   "cell_type": "code",
   "execution_count": 14,
   "id": "b23ac400",
   "metadata": {},
   "outputs": [
    {
     "name": "stdout",
     "output_type": "stream",
     "text": [
      "\n",
      "Classification Report:\n",
      "              precision    recall  f1-score   support\n",
      "\n",
      "           0       0.81      0.69      0.74        99\n",
      "           1       0.56      0.71      0.62        55\n",
      "\n",
      "    accuracy                           0.69       154\n",
      "   macro avg       0.68      0.70      0.68       154\n",
      "weighted avg       0.72      0.69      0.70       154\n",
      "\n"
     ]
    }
   ],
   "source": [
    "# Classification report\n",
    "print(\"\\nClassification Report:\")\n",
    "print(classification_report(y_test, y_pred_LogisticRegression))"
   ]
  },
  {
   "cell_type": "code",
   "execution_count": 15,
   "id": "71212c65",
   "metadata": {},
   "outputs": [
    {
     "name": "stdout",
     "output_type": "stream",
     "text": [
      "Accuracy: 0.69\n",
      "Precision Score: 0.56\n",
      "Recall Score : 0.71\n",
      "f1 Score : 0.62\n"
     ]
    }
   ],
   "source": [
    "# Accuracy\n",
    "Accuracy_LogisticRegression = accuracy_score(y_test, y_pred_LogisticRegression)\n",
    "print(\"Accuracy:\", round(Accuracy_LogisticRegression,2))\n",
    "# Precision\n",
    "Precision_LogisticRegression = precision_score(y_test, y_pred_LogisticRegression, average='binary')\n",
    "print(\"Precision Score:\", round(Precision_LogisticRegression,2))\n",
    "# Recall\n",
    "recall_LogisticRegression = recall_score(y_test, y_pred_LogisticRegression, average='binary')\n",
    "print(\"Recall Score :\", round(recall_LogisticRegression,2))\n",
    "# f1_score\n",
    "f1_score_LogisticRegression = f1_score(y_test, y_pred_LogisticRegression, average='binary')\n",
    "print(\"f1 Score :\", round(f1_score_LogisticRegression,2))"
   ]
  },
  {
   "cell_type": "markdown",
   "id": "b9b50441",
   "metadata": {},
   "source": [
    "### KNN"
   ]
  },
  {
   "cell_type": "code",
   "execution_count": 16,
   "id": "cb6213b8",
   "metadata": {},
   "outputs": [
    {
     "name": "stdout",
     "output_type": "stream",
     "text": [
      "Optimal value for param n_neighbors is :  11\n",
      "Maximum Accuracy is :  0.7142857142857143\n"
     ]
    }
   ],
   "source": [
    "# Hyperparameter Tuning\n",
    "KNN_optimal_parms_accuracy={}\n",
    "for i in range(1,21):\n",
    "    # Train Model\n",
    "    model_KNN = KNeighborsClassifier(n_neighbors=i)\n",
    "    model_KNN.fit(X_train_resampled_scaled, y_train_resampled)\n",
    "    #Predict the results\n",
    "    y_pred_KNN = model_KNN.predict(X_test_scaled)\n",
    "    # Accuracy\n",
    "    acc = accuracy_score(y_test, y_pred_KNN)\n",
    "    # Appending to dict\n",
    "    KNN_optimal_parms_accuracy[i] = acc\n",
    "    \n",
    "optimal_params_KNN = max(KNN_optimal_parms_accuracy, key=KNN_optimal_parms_accuracy.get)\n",
    "print(\"Optimal value for param n_neighbors is : \",optimal_params_KNN)\n",
    "print(\"Maximum Accuracy is : \", KNN_optimal_parms_accuracy[optimal_params_KNN])"
   ]
  },
  {
   "cell_type": "code",
   "execution_count": 17,
   "id": "5f83a303",
   "metadata": {},
   "outputs": [],
   "source": [
    "model_KNN = KNeighborsClassifier(n_neighbors=11)\n",
    "model_KNN.fit(X_train_resampled_scaled, y_train_resampled)\n",
    "#Predict the results\n",
    "y_pred_KNN = model_KNN.predict(X_test_scaled)"
   ]
  },
  {
   "cell_type": "code",
   "execution_count": 18,
   "id": "9682aad3",
   "metadata": {},
   "outputs": [
    {
     "name": "stdout",
     "output_type": "stream",
     "text": [
      "\n",
      "Classification Report:\n",
      "              precision    recall  f1-score   support\n",
      "\n",
      "           0       0.82      0.71      0.76        99\n",
      "           1       0.58      0.73      0.65        55\n",
      "\n",
      "    accuracy                           0.71       154\n",
      "   macro avg       0.70      0.72      0.70       154\n",
      "weighted avg       0.74      0.71      0.72       154\n",
      "\n"
     ]
    }
   ],
   "source": [
    "# Classification report\n",
    "print(\"\\nClassification Report:\")\n",
    "print(classification_report(y_test, y_pred_KNN))"
   ]
  },
  {
   "cell_type": "code",
   "execution_count": 19,
   "id": "ce185262",
   "metadata": {},
   "outputs": [
    {
     "name": "stdout",
     "output_type": "stream",
     "text": [
      "Accuracy: 0.71\n",
      "Precision Score: 0.58\n",
      "Recall Score: 0.73\n",
      "f1 Score: 0.65\n"
     ]
    }
   ],
   "source": [
    "# Precision\n",
    "Accuracy_KNN = accuracy_score(y_test, y_pred_KNN)\n",
    "print(\"Accuracy:\", round(Accuracy_KNN,2))\n",
    "# Precision\n",
    "Precision_KNN = precision_score(y_test, y_pred_KNN, average='binary')\n",
    "print(\"Precision Score:\", round(Precision_KNN,2))\n",
    "# Recall\n",
    "recall_KNN = recall_score(y_test, y_pred_KNN, average='binary')\n",
    "print(\"Recall Score:\", round(recall_KNN,2))\n",
    "# f1_score\n",
    "f1_score_KNN = f1_score(y_test, y_pred_KNN, average='binary')\n",
    "print(\"f1 Score:\", round(f1_score_KNN,2))"
   ]
  },
  {
   "cell_type": "markdown",
   "id": "a62888b7",
   "metadata": {},
   "source": [
    "### SVM"
   ]
  },
  {
   "cell_type": "code",
   "execution_count": 20,
   "id": "65af97c0",
   "metadata": {},
   "outputs": [
    {
     "name": "stdout",
     "output_type": "stream",
     "text": [
      "Optimal value for param C is :  1\n",
      "Maximum Accuracy is :  0.7142857142857143\n"
     ]
    }
   ],
   "source": [
    "# Hyperparameter Tuning\n",
    "SVM_optimal_parms_accuracy={}\n",
    "for i in [0.1,1,2,3,4,5,6,7,8,9,10,15,20,25,30,35,40,50]:\n",
    "    # Train Model\n",
    "    model_svc = SVC(C=i, random_state=42) \n",
    "    model_svc.fit(X_train_resampled_scaled, y_train_resampled)\n",
    "    #Predict the results\n",
    "    y_pred_SVC = model_svc.predict(X_test_scaled)\n",
    "    # Accuracy\n",
    "    acc = accuracy_score(y_test, y_pred_SVC)\n",
    "    # Appending to dict\n",
    "    SVM_optimal_parms_accuracy[i] = acc\n",
    "    \n",
    "optimal_params_SVM = max(SVM_optimal_parms_accuracy, key=SVM_optimal_parms_accuracy.get)\n",
    "print(\"Optimal value for param C is : \",optimal_params_SVM)\n",
    "print(\"Maximum Accuracy is : \", SVM_optimal_parms_accuracy[optimal_params_SVM])"
   ]
  },
  {
   "cell_type": "code",
   "execution_count": 21,
   "id": "6a5fa1c6",
   "metadata": {},
   "outputs": [],
   "source": [
    "# Train Model\n",
    "model_svc = SVC(C=1, random_state=42) \n",
    "model_svc.fit(X_train_resampled_scaled, y_train_resampled)\n",
    "# Prediction\n",
    "y_pred_SVC = model_svc.predict(X_test_scaled)"
   ]
  },
  {
   "cell_type": "code",
   "execution_count": 22,
   "id": "68b2398d",
   "metadata": {},
   "outputs": [
    {
     "name": "stdout",
     "output_type": "stream",
     "text": [
      "\n",
      "Classification Report:\n",
      "              precision    recall  f1-score   support\n",
      "\n",
      "           0       0.80      0.74      0.77        99\n",
      "           1       0.59      0.67      0.63        55\n",
      "\n",
      "    accuracy                           0.71       154\n",
      "   macro avg       0.69      0.71      0.70       154\n",
      "weighted avg       0.73      0.71      0.72       154\n",
      "\n"
     ]
    }
   ],
   "source": [
    "# Classification report\n",
    "print(\"\\nClassification Report:\")\n",
    "print(classification_report(y_test, y_pred_SVC))"
   ]
  },
  {
   "cell_type": "code",
   "execution_count": 23,
   "id": "9c35eaf4",
   "metadata": {},
   "outputs": [
    {
     "name": "stdout",
     "output_type": "stream",
     "text": [
      "Accuracy: 0.71\n",
      "Precision Score: 0.59\n",
      "Recall Score: 0.67\n",
      "f1 Score: 0.63\n"
     ]
    }
   ],
   "source": [
    "# Accuracy\n",
    "Accuracy_SVC = accuracy_score(y_test, y_pred_SVC)\n",
    "print(\"Accuracy:\", round(Accuracy_SVC,2))\n",
    "# Precision\n",
    "Precision_SVC = precision_score(y_test, y_pred_SVC, average='binary')\n",
    "print(\"Precision Score:\", round(Precision_SVC,2))\n",
    "# Recall\n",
    "recall_SVC = recall_score(y_test, y_pred_SVC, average='binary')\n",
    "print(\"Recall Score:\", round(recall_SVC,2))\n",
    "# f1_score\n",
    "f1_score_SVC = f1_score(y_test, y_pred_SVC, average='binary')\n",
    "print(\"f1 Score:\", round(f1_score_SVC,2))"
   ]
  },
  {
   "cell_type": "markdown",
   "id": "4ddb0ba3",
   "metadata": {},
   "source": [
    "### Decision Tree"
   ]
  },
  {
   "cell_type": "code",
   "execution_count": 24,
   "id": "54a9fbc4",
   "metadata": {},
   "outputs": [
    {
     "name": "stdout",
     "output_type": "stream",
     "text": [
      "Optimal value for param max_depth is :  6\n",
      "Maximum Accuracy is :  0.7727272727272727\n"
     ]
    }
   ],
   "source": [
    "# Hyperparameter Tuning\n",
    "DT_optimal_parms_accuracy={}\n",
    "for i in range(1,21):\n",
    "    # Train Model\n",
    "    model_DecisionTree = DecisionTreeClassifier(max_depth=i, random_state=42)\n",
    "    model_DecisionTree.fit(X_train_resampled_scaled, y_train_resampled)\n",
    "    # Prediction\n",
    "    y_pred_DecisionTree = model_DecisionTree.predict(X_test_scaled)\n",
    "    # Accuracy\n",
    "    acc = accuracy_score(y_test, y_pred_DecisionTree)\n",
    "    # Appending to dict\n",
    "    DT_optimal_parms_accuracy[i] = acc\n",
    "    \n",
    "optimal_params_DT = max(DT_optimal_parms_accuracy, key=DT_optimal_parms_accuracy.get)\n",
    "print(\"Optimal value for param max_depth is : \",optimal_params_DT)\n",
    "print(\"Maximum Accuracy is : \", DT_optimal_parms_accuracy[optimal_params_DT])"
   ]
  },
  {
   "cell_type": "code",
   "execution_count": 25,
   "id": "f81e19fa",
   "metadata": {},
   "outputs": [],
   "source": [
    "# Train Model\n",
    "model_DecisionTree = DecisionTreeClassifier(max_depth=6, random_state=42)\n",
    "model_DecisionTree.fit(X_train_resampled_scaled, y_train_resampled)\n",
    "# Prediction\n",
    "y_pred_DecisionTree = model_DecisionTree.predict(X_test_scaled)"
   ]
  },
  {
   "cell_type": "code",
   "execution_count": 26,
   "id": "b38a6a6d",
   "metadata": {},
   "outputs": [
    {
     "name": "stdout",
     "output_type": "stream",
     "text": [
      "\n",
      "Classification Report:\n",
      "              precision    recall  f1-score   support\n",
      "\n",
      "           0       0.84      0.80      0.82        99\n",
      "           1       0.67      0.73      0.70        55\n",
      "\n",
      "    accuracy                           0.77       154\n",
      "   macro avg       0.75      0.76      0.76       154\n",
      "weighted avg       0.78      0.77      0.77       154\n",
      "\n"
     ]
    }
   ],
   "source": [
    "# Classification report\n",
    "print(\"\\nClassification Report:\")\n",
    "print(classification_report(y_test, y_pred_DecisionTree))"
   ]
  },
  {
   "cell_type": "code",
   "execution_count": 27,
   "id": "c1421f37",
   "metadata": {},
   "outputs": [
    {
     "name": "stdout",
     "output_type": "stream",
     "text": [
      "Accuracy :  0.77\n",
      "Precision Score :  0.67\n",
      "Recall Score :  0.73\n",
      "f1 Score :  0.7\n"
     ]
    }
   ],
   "source": [
    "# Accuracy\n",
    "Accuracy_DecisionTree = accuracy_score(y_test, y_pred_DecisionTree)\n",
    "print(\"Accuracy : \", round(Accuracy_DecisionTree,2))\n",
    "# Precision\n",
    "Precision_DecisionTree = precision_score(y_test, y_pred_DecisionTree, average='binary')\n",
    "print(\"Precision Score : \", round(Precision_DecisionTree,2))\n",
    "# Recall\n",
    "recall_DecisionTree = recall_score(y_test, y_pred_DecisionTree, average='binary')\n",
    "print(\"Recall Score : \", round(recall_DecisionTree,2))\n",
    "# f1_score\n",
    "f1_score_DecisionTree = f1_score(y_test, y_pred_DecisionTree, average='binary')\n",
    "print(\"f1 Score : \", round(f1_score_DecisionTree,2))"
   ]
  },
  {
   "cell_type": "code",
   "execution_count": 28,
   "id": "1652d597",
   "metadata": {},
   "outputs": [
    {
     "data": {
      "text/plain": [
       "<Axes: >"
      ]
     },
     "execution_count": 28,
     "metadata": {},
     "output_type": "execute_result"
    },
    {
     "data": {
      "image/png": "[encoded data removed]",
      "text/plain": [
       "<Figure size 640x480 with 1 Axes>"
      ]
     },
     "metadata": {},
     "output_type": "display_data"
    }
   ],
   "source": [
    "# Feature Importance\n",
    "pd.Series(model_DecisionTree.feature_importances_, index=X.columns).plot(kind='barh')"
   ]
  },
  {
   "cell_type": "markdown",
   "id": "4dab5635",
   "metadata": {},
   "source": [
    "### Random Forest"
   ]
  },
  {
   "cell_type": "code",
   "execution_count": 29,
   "id": "b34b0107",
   "metadata": {},
   "outputs": [
    {
     "name": "stdout",
     "output_type": "stream",
     "text": [
      "Optimal values for param max_depth, n_estimators are :  (7, 95)\n",
      "Maximum Accuracy is :  0.7792207792207793\n"
     ]
    }
   ],
   "source": [
    "# Hyperparameter Tuning\n",
    "RF_optimal_parms_accuracy={}\n",
    "for i in range(1,21):\n",
    "    for j in range(5,101,5):\n",
    "        # Train Model\n",
    "        model_RandomForest = RandomForestClassifier(max_depth = i, n_estimators = j, random_state=42)\n",
    "        model_RandomForest.fit(X_train_resampled_scaled, y_train_resampled)\n",
    "        # Prediction\n",
    "        y_pred_RandomForest = model_RandomForest.predict(X_test_scaled)\n",
    "        # Accuracy\n",
    "        acc = accuracy_score(y_test, y_pred_RandomForest)\n",
    "        # Appending to dict\n",
    "        RF_optimal_parms_accuracy[i,j] = acc\n",
    "    \n",
    "optimal_params_RF = max(RF_optimal_parms_accuracy, key=RF_optimal_parms_accuracy.get)\n",
    "print(\"Optimal values for param max_depth, n_estimators are : \",optimal_params_RF)\n",
    "print(\"Maximum Accuracy is : \", RF_optimal_parms_accuracy[optimal_params_RF])"
   ]
  },
  {
   "cell_type": "code",
   "execution_count": 30,
   "id": "e7c4e877",
   "metadata": {},
   "outputs": [],
   "source": [
    "# Train the model\n",
    "model_RandomForest = RandomForestClassifier(max_depth = 7, n_estimators = 95, random_state=42)\n",
    "model_RandomForest.fit(X_train_resampled_scaled, y_train_resampled)\n",
    "#Prediction\n",
    "y_pred_RandomForest = model_RandomForest.predict(X_test_scaled)      "
   ]
  },
  {
   "cell_type": "code",
   "execution_count": 31,
   "id": "0d12d7de",
   "metadata": {},
   "outputs": [
    {
     "name": "stdout",
     "output_type": "stream",
     "text": [
      "\n",
      "Classification Report:\n",
      "              precision    recall  f1-score   support\n",
      "\n",
      "           0       0.87      0.78      0.82        99\n",
      "           1       0.66      0.78      0.72        55\n",
      "\n",
      "    accuracy                           0.78       154\n",
      "   macro avg       0.76      0.78      0.77       154\n",
      "weighted avg       0.79      0.78      0.78       154\n",
      "\n"
     ]
    }
   ],
   "source": [
    "# Classification report\n",
    "print(\"\\nClassification Report:\")\n",
    "print(classification_report(y_test, y_pred_RandomForest))"
   ]
  },
  {
   "cell_type": "code",
   "execution_count": 32,
   "id": "d0b67d3b",
   "metadata": {
    "scrolled": true
   },
   "outputs": [
    {
     "name": "stdout",
     "output_type": "stream",
     "text": [
      "Accuracy: 0.78\n",
      "Precision Score: 0.66\n",
      "Recall Score: 0.78\n",
      "f1 Score: 0.72\n"
     ]
    }
   ],
   "source": [
    "# Accuracy\n",
    "Accuracy_RandomForest = accuracy_score(y_test, y_pred_RandomForest)\n",
    "print(\"Accuracy:\", round(Accuracy_RandomForest,2))\n",
    "# Precision\n",
    "Precision_RandomForest = precision_score(y_test, y_pred_RandomForest, average='binary')\n",
    "print(\"Precision Score:\", round(Precision_RandomForest,2))\n",
    "# Recall\n",
    "recall_RandomForest = recall_score(y_test, y_pred_RandomForest, average='binary')\n",
    "print(\"Recall Score:\", round(recall_RandomForest,2))\n",
    "# f1_score\n",
    "f1_score_RandomForest = f1_score(y_test, y_pred_RandomForest, average='binary')\n",
    "print(\"f1 Score:\", round(f1_score_RandomForest,2))"
   ]
  },
  {
   "cell_type": "code",
   "execution_count": 33,
   "id": "b4f6985e",
   "metadata": {},
   "outputs": [
    {
     "data": {
      "text/plain": [
       "<Axes: >"
      ]
     },
     "execution_count": 33,
     "metadata": {},
     "output_type": "execute_result"
    },
    {
     "data": {
      "image/png": "[encoded data removed]",
      "text/plain": [
       "<Figure size 640x480 with 1 Axes>"
      ]
     },
     "metadata": {},
     "output_type": "display_data"
    }
   ],
   "source": [
    "# Feature Importance\n",
    "pd.Series(model_RandomForest.feature_importances_, index=X.columns).plot(kind='barh')"
   ]
  },
  {
   "cell_type": "markdown",
   "id": "ab01eefe",
   "metadata": {},
   "source": [
    "### GBM"
   ]
  },
  {
   "cell_type": "code",
   "execution_count": 34,
   "id": "d8e76c9e",
   "metadata": {},
   "outputs": [
    {
     "name": "stdout",
     "output_type": "stream",
     "text": [
      "Optimal values for param max_depth, n_estimators are :  (1, 75)\n",
      "Maximum Accuracy is :  0.7662337662337663\n"
     ]
    }
   ],
   "source": [
    "# Hyperparameter Tuning\n",
    "GBM_optimal_parms_accuracy={}\n",
    "for i in range(1,21):\n",
    "    for j in range(5,101,5):\n",
    "        # Train Model\n",
    "        model_GBM = GradientBoostingClassifier(max_depth=i, n_estimators=j, random_state=42)\n",
    "        model_GBM.fit(X_train_resampled_scaled, y_train_resampled)\n",
    "        #Predict the results\n",
    "        y_pred_GBM = model_GBM.predict(X_test_scaled)\n",
    "        # Accuracy\n",
    "        acc = accuracy_score(y_test, y_pred_GBM)\n",
    "        # Appending to dict\n",
    "        GBM_optimal_parms_accuracy[i,j] = acc\n",
    "    \n",
    "optimal_params_GBM = max(GBM_optimal_parms_accuracy, key=GBM_optimal_parms_accuracy.get)\n",
    "print(\"Optimal values for param max_depth, n_estimators are : \",optimal_params_GBM)\n",
    "print(\"Maximum Accuracy is : \", GBM_optimal_parms_accuracy[optimal_params_GBM])"
   ]
  },
  {
   "cell_type": "code",
   "execution_count": 35,
   "id": "f1085678",
   "metadata": {},
   "outputs": [],
   "source": [
    "# Train Model\n",
    "model_GBM = GradientBoostingClassifier(max_depth=1, n_estimators=75, random_state=42)\n",
    "model_GBM.fit(X_train_resampled_scaled, y_train_resampled)\n",
    "# Prediction\n",
    "y_pred_GBM = model_GBM.predict(X_test_scaled)"
   ]
  },
  {
   "cell_type": "code",
   "execution_count": 36,
   "id": "d7ee6aff",
   "metadata": {},
   "outputs": [
    {
     "name": "stdout",
     "output_type": "stream",
     "text": [
      "\n",
      "Classification Report:\n",
      "              precision    recall  f1-score   support\n",
      "\n",
      "           0       0.85      0.77      0.81        99\n",
      "           1       0.65      0.76      0.70        55\n",
      "\n",
      "    accuracy                           0.77       154\n",
      "   macro avg       0.75      0.77      0.75       154\n",
      "weighted avg       0.78      0.77      0.77       154\n",
      "\n"
     ]
    }
   ],
   "source": [
    "# Classification report\n",
    "print(\"\\nClassification Report:\")\n",
    "print(classification_report(y_test, y_pred_GBM))"
   ]
  },
  {
   "cell_type": "code",
   "execution_count": 37,
   "id": "06c1ce0a",
   "metadata": {},
   "outputs": [
    {
     "name": "stdout",
     "output_type": "stream",
     "text": [
      "Accuracy: 0.77\n",
      "Precision Score: 0.65\n",
      "Recall Score: 0.76\n",
      "f1 Score: 0.7\n"
     ]
    }
   ],
   "source": [
    "# Accuracy\n",
    "Accuracy_GBM = accuracy_score(y_test, y_pred_GBM)\n",
    "print(\"Accuracy:\", round(Accuracy_GBM,2))\n",
    "# Precision\n",
    "Precision_GBM = precision_score(y_test, y_pred_GBM, average='binary')\n",
    "print(\"Precision Score:\", round(Precision_GBM,2))\n",
    "# Recall\n",
    "recall_GBM = recall_score(y_test, y_pred_GBM, average='binary')\n",
    "print(\"Recall Score:\", round(recall_GBM,2))\n",
    "# f1_score\n",
    "f1_score_GBM = f1_score(y_test, y_pred_GBM, average='binary')\n",
    "print(\"f1 Score:\", round(f1_score_GBM,2))"
   ]
  },
  {
   "cell_type": "code",
   "execution_count": 38,
   "id": "4cc760fe",
   "metadata": {},
   "outputs": [
    {
     "data": {
      "text/plain": [
       "<Axes: >"
      ]
     },
     "execution_count": 38,
     "metadata": {},
     "output_type": "execute_result"
    },
    {
     "data": {
      "image/png": "[encoded data removed]",
      "text/plain": [
       "<Figure size 640x480 with 1 Axes>"
      ]
     },
     "metadata": {},
     "output_type": "display_data"
    }
   ],
   "source": [
    "# Feature Importance\n",
    "pd.Series(model_GBM.feature_importances_, index=X.columns).plot(kind='barh')"
   ]
  },
  {
   "cell_type": "markdown",
   "id": "e85409a2",
   "metadata": {},
   "source": [
    "## XGB"
   ]
  },
  {
   "cell_type": "code",
   "execution_count": 39,
   "id": "9753cbe6",
   "metadata": {},
   "outputs": [
    {
     "name": "stdout",
     "output_type": "stream",
     "text": [
      "Optimal values for param max_depth, n_estimators and learning_rate are :  (1, 90, 0.01)\n",
      "Maximum Accuracy is :  0.7727272727272727\n"
     ]
    }
   ],
   "source": [
    "# Hyperparameter Tuning\n",
    "XGB_optimal_parms_accuracy={}\n",
    "for i in range(1,21):\n",
    "    for j in range(5,101,5):\n",
    "        for k in [0.01, 0.05, 0.1]:\n",
    "            # Train Model\n",
    "            model_XGB = XGBClassifier(max_depth=i, n_estimators=j, learning_rate=k, random_state=42)\n",
    "            model_XGB.fit(X_train_resampled_scaled, y_train_resampled)\n",
    "            #Predict the results\n",
    "            y_pred_XGB = model_XGB.predict(X_test_scaled)\n",
    "            # Accuracy\n",
    "            acc = accuracy_score(y_test, y_pred_XGB)\n",
    "            # Appending to dict\n",
    "            XGB_optimal_parms_accuracy[i,j,k] = acc\n",
    "    \n",
    "optimal_params_XGB = max(XGB_optimal_parms_accuracy, key=XGB_optimal_parms_accuracy.get)\n",
    "print(\"Optimal values for param max_depth, n_estimators and learning_rate are : \",optimal_params_XGB)\n",
    "print(\"Maximum Accuracy is : \", XGB_optimal_parms_accuracy[optimal_params_XGB])"
   ]
  },
  {
   "cell_type": "code",
   "execution_count": 40,
   "id": "adf2ccc4",
   "metadata": {},
   "outputs": [],
   "source": [
    "# Train Model\n",
    "model_XGB = XGBClassifier(max_depth=1, n_estimators=90, learning_rate=0.01, random_state=42)\n",
    "model_XGB.fit(X_train_resampled_scaled, y_train_resampled)\n",
    "#Predict the results\n",
    "y_pred_XGB = model_XGB.predict(X_test_scaled)"
   ]
  },
  {
   "cell_type": "code",
   "execution_count": 41,
   "id": "4a9723ab",
   "metadata": {},
   "outputs": [
    {
     "name": "stdout",
     "output_type": "stream",
     "text": [
      "\n",
      "Classification Report:\n",
      "              precision    recall  f1-score   support\n",
      "\n",
      "           0       0.83      0.81      0.82        99\n",
      "           1       0.67      0.71      0.69        55\n",
      "\n",
      "    accuracy                           0.77       154\n",
      "   macro avg       0.75      0.76      0.76       154\n",
      "weighted avg       0.78      0.77      0.77       154\n",
      "\n"
     ]
    }
   ],
   "source": [
    "# Classification report\n",
    "print(\"\\nClassification Report:\")\n",
    "print(classification_report(y_test, y_pred_XGB))"
   ]
  },
  {
   "cell_type": "code",
   "execution_count": 42,
   "id": "7806eadc",
   "metadata": {},
   "outputs": [
    {
     "name": "stdout",
     "output_type": "stream",
     "text": [
      "Accuracy: 0.77\n",
      "Precision Score: 0.67\n",
      "Recall Score: 0.71\n",
      "f1 Score: 0.69\n"
     ]
    }
   ],
   "source": [
    "# Precision\n",
    "Accuracy_XGB = accuracy_score(y_test, y_pred_XGB)\n",
    "print(\"Accuracy:\", round(Accuracy_XGB,2))\n",
    "# Precision\n",
    "Precision_XGB = precision_score(y_test, y_pred_XGB, average='binary')\n",
    "print(\"Precision Score:\", round(Precision_XGB,2))\n",
    "# Recall\n",
    "recall_XGB = recall_score(y_test, y_pred_XGB, average='binary')\n",
    "print(\"Recall Score:\", round(recall_XGB,2))\n",
    "# f1_score\n",
    "f1_score_XGB = f1_score(y_test, y_pred_XGB, average='binary')\n",
    "print(\"f1 Score:\", round(f1_score_XGB,2))"
   ]
  },
  {
   "cell_type": "code",
   "execution_count": 43,
   "id": "8d82ee51",
   "metadata": {},
   "outputs": [
    {
     "data": {
      "text/plain": [
       "<Axes: >"
      ]
     },
     "execution_count": 43,
     "metadata": {},
     "output_type": "execute_result"
    },
    {
     "data": {
      "image/png": "[encoded data removed]",
      "text/plain": [
       "<Figure size 640x480 with 1 Axes>"
      ]
     },
     "metadata": {},
     "output_type": "display_data"
    }
   ],
   "source": [
    "# Feature Importance\n",
    "pd.Series(model_XGB.feature_importances_, index=X.columns).plot(kind='barh')"
   ]
  },
  {
   "cell_type": "markdown",
   "id": "a568213e",
   "metadata": {},
   "source": [
    "### Machine Learning Models Perfromance"
   ]
  },
  {
   "cell_type": "code",
   "execution_count": 44,
   "id": "65925d59",
   "metadata": {},
   "outputs": [
    {
     "data": {
      "text/plain": [
       "<Figure size 1000x600 with 0 Axes>"
      ]
     },
     "metadata": {},
     "output_type": "display_data"
    },
    {
     "data": {
      "image/png": "[encoded data removed]",
      "text/plain": [
       "<Figure size 1800x600 with 1 Axes>"
      ]
     },
     "metadata": {},
     "output_type": "display_data"
    }
   ],
   "source": [
    "#Creating the list of models\n",
    "ML_Models = ['LR', 'DT', 'SVM', 'KNN', 'RF', 'GBM', 'XGB']\n",
    "#Creating the list of r2 scores of models of different analysis\n",
    "Accuracy = [0.69, 0.77, 0.71, 0.71, 0.78, 0.77, 0.77]\n",
    "Precision = [0.56, 0.67, 0.59, 0.58, 0.66, 0.65, 0.67]\n",
    "Recall = [0.71, 0.73, 0.67, 0.73, 0.78, 0.76, 0.71]\n",
    "F1_Score = [0.62, 0.70, 0.63, 0.65, 0.72, 0.70, 0.69]\n",
    "#Creating data frame\n",
    "scores_=pd.DataFrame({\n",
    "    'Accuracy' : Accuracy,\n",
    "    'Precision' : Precision,\n",
    "    'Recall' : Recall,\n",
    "    'F1_Score' : F1_Score},\n",
    "    index=ML_Models\n",
    ")\n",
    "\n",
    "#Plotting the results\n",
    "plt.figure(figsize = (10, 6))\n",
    "ax=scores_.plot(kind='bar', width=0.7, figsize=(18,6))\n",
    "\n",
    "plt.xlabel(\"Machine Learning Models\")\n",
    "plt.ylabel(\"Model Evaluation Scores\")\n",
    "plt.title(\"Evaluation Scores of Various Machine Learning Models\")\n",
    "#Setting roration for x-axis values\n",
    "plt.xticks(rotation=0)\n",
    "for i in ax.containers:\n",
    "    ax.bar_label(i,)\n",
    "plt.show()"
   ]
  },
  {
   "cell_type": "markdown",
   "id": "ec856097",
   "metadata": {},
   "source": [
    "## Best Model"
   ]
  },
  {
   "cell_type": "code",
   "execution_count": 16,
   "id": "8acf922e",
   "metadata": {},
   "outputs": [],
   "source": [
    "X_train_resampled_copy= X_train_resampled.copy(deep=True)\n",
    "X_test_copy = X_test.copy(deep=True)"
   ]
  },
  {
   "cell_type": "code",
   "execution_count": 19,
   "id": "aae0a87c",
   "metadata": {},
   "outputs": [
    {
     "data": {
      "text/html": [
       "<div>\n",
       "<style scoped>\n",
       "    .dataframe tbody tr th:only-of-type {\n",
       "        vertical-align: middle;\n",
       "    }\n",
       "\n",
       "    .dataframe tbody tr th {\n",
       "        vertical-align: top;\n",
       "    }\n",
       "\n",
       "    .dataframe thead th {\n",
       "        text-align: right;\n",
       "    }\n",
       "</style>\n",
       "<table border=\"1\" class=\"dataframe\">\n",
       "  <thead>\n",
       "    <tr style=\"text-align: right;\">\n",
       "      <th></th>\n",
       "      <th>Glucose</th>\n",
       "      <th>BloodPressure</th>\n",
       "      <th>SkinThickness</th>\n",
       "      <th>Insulin</th>\n",
       "      <th>BMI</th>\n",
       "      <th>DiabetesPedigreeFunction</th>\n",
       "      <th>Age</th>\n",
       "    </tr>\n",
       "  </thead>\n",
       "  <tbody>\n",
       "    <tr>\n",
       "      <th>0</th>\n",
       "      <td>84</td>\n",
       "      <td>0</td>\n",
       "      <td>0</td>\n",
       "      <td>0</td>\n",
       "      <td>0.000000</td>\n",
       "      <td>0.304000</td>\n",
       "      <td>21</td>\n",
       "    </tr>\n",
       "    <tr>\n",
       "      <th>1</th>\n",
       "      <td>112</td>\n",
       "      <td>82</td>\n",
       "      <td>24</td>\n",
       "      <td>0</td>\n",
       "      <td>28.200000</td>\n",
       "      <td>1.282000</td>\n",
       "      <td>50</td>\n",
       "    </tr>\n",
       "    <tr>\n",
       "      <th>2</th>\n",
       "      <td>139</td>\n",
       "      <td>46</td>\n",
       "      <td>19</td>\n",
       "      <td>83</td>\n",
       "      <td>28.700000</td>\n",
       "      <td>0.654000</td>\n",
       "      <td>22</td>\n",
       "    </tr>\n",
       "    <tr>\n",
       "      <th>3</th>\n",
       "      <td>161</td>\n",
       "      <td>50</td>\n",
       "      <td>0</td>\n",
       "      <td>0</td>\n",
       "      <td>21.900000</td>\n",
       "      <td>0.254000</td>\n",
       "      <td>65</td>\n",
       "    </tr>\n",
       "    <tr>\n",
       "      <th>4</th>\n",
       "      <td>134</td>\n",
       "      <td>80</td>\n",
       "      <td>37</td>\n",
       "      <td>370</td>\n",
       "      <td>46.200000</td>\n",
       "      <td>0.238000</td>\n",
       "      <td>46</td>\n",
       "    </tr>\n",
       "    <tr>\n",
       "      <th>...</th>\n",
       "      <td>...</td>\n",
       "      <td>...</td>\n",
       "      <td>...</td>\n",
       "      <td>...</td>\n",
       "      <td>...</td>\n",
       "      <td>...</td>\n",
       "      <td>...</td>\n",
       "    </tr>\n",
       "    <tr>\n",
       "      <th>797</th>\n",
       "      <td>113</td>\n",
       "      <td>66</td>\n",
       "      <td>0</td>\n",
       "      <td>0</td>\n",
       "      <td>32.790691</td>\n",
       "      <td>0.258326</td>\n",
       "      <td>42</td>\n",
       "    </tr>\n",
       "    <tr>\n",
       "      <th>798</th>\n",
       "      <td>148</td>\n",
       "      <td>82</td>\n",
       "      <td>45</td>\n",
       "      <td>231</td>\n",
       "      <td>38.583317</td>\n",
       "      <td>0.911017</td>\n",
       "      <td>48</td>\n",
       "    </tr>\n",
       "    <tr>\n",
       "      <th>799</th>\n",
       "      <td>126</td>\n",
       "      <td>68</td>\n",
       "      <td>26</td>\n",
       "      <td>115</td>\n",
       "      <td>29.775283</td>\n",
       "      <td>0.208946</td>\n",
       "      <td>37</td>\n",
       "    </tr>\n",
       "    <tr>\n",
       "      <th>800</th>\n",
       "      <td>141</td>\n",
       "      <td>0</td>\n",
       "      <td>0</td>\n",
       "      <td>0</td>\n",
       "      <td>42.612697</td>\n",
       "      <td>0.255220</td>\n",
       "      <td>29</td>\n",
       "    </tr>\n",
       "    <tr>\n",
       "      <th>801</th>\n",
       "      <td>112</td>\n",
       "      <td>69</td>\n",
       "      <td>27</td>\n",
       "      <td>0</td>\n",
       "      <td>30.541076</td>\n",
       "      <td>0.549612</td>\n",
       "      <td>33</td>\n",
       "    </tr>\n",
       "  </tbody>\n",
       "</table>\n",
       "<p>802 rows × 7 columns</p>\n",
       "</div>"
      ],
      "text/plain": [
       "     Glucose  BloodPressure  SkinThickness  Insulin        BMI  \\\n",
       "0         84              0              0        0   0.000000   \n",
       "1        112             82             24        0  28.200000   \n",
       "2        139             46             19       83  28.700000   \n",
       "3        161             50              0        0  21.900000   \n",
       "4        134             80             37      370  46.200000   \n",
       "..       ...            ...            ...      ...        ...   \n",
       "797      113             66              0        0  32.790691   \n",
       "798      148             82             45      231  38.583317   \n",
       "799      126             68             26      115  29.775283   \n",
       "800      141              0              0        0  42.612697   \n",
       "801      112             69             27        0  30.541076   \n",
       "\n",
       "     DiabetesPedigreeFunction  Age  \n",
       "0                    0.304000   21  \n",
       "1                    1.282000   50  \n",
       "2                    0.654000   22  \n",
       "3                    0.254000   65  \n",
       "4                    0.238000   46  \n",
       "..                        ...  ...  \n",
       "797                  0.258326   42  \n",
       "798                  0.911017   48  \n",
       "799                  0.208946   37  \n",
       "800                  0.255220   29  \n",
       "801                  0.549612   33  \n",
       "\n",
       "[802 rows x 7 columns]"
      ]
     },
     "execution_count": 19,
     "metadata": {},
     "output_type": "execute_result"
    }
   ],
   "source": [
    "X_train_resampled_copy.drop('Pregnancies', axis=1, inplace=True)\n",
    "X_train_resampled_copy"
   ]
  },
  {
   "cell_type": "code",
   "execution_count": 20,
   "id": "40a33bba",
   "metadata": {},
   "outputs": [
    {
     "data": {
      "text/html": [
       "<div>\n",
       "<style scoped>\n",
       "    .dataframe tbody tr th:only-of-type {\n",
       "        vertical-align: middle;\n",
       "    }\n",
       "\n",
       "    .dataframe tbody tr th {\n",
       "        vertical-align: top;\n",
       "    }\n",
       "\n",
       "    .dataframe thead th {\n",
       "        text-align: right;\n",
       "    }\n",
       "</style>\n",
       "<table border=\"1\" class=\"dataframe\">\n",
       "  <thead>\n",
       "    <tr style=\"text-align: right;\">\n",
       "      <th></th>\n",
       "      <th>Glucose</th>\n",
       "      <th>BloodPressure</th>\n",
       "      <th>SkinThickness</th>\n",
       "      <th>Insulin</th>\n",
       "      <th>BMI</th>\n",
       "      <th>DiabetesPedigreeFunction</th>\n",
       "      <th>Age</th>\n",
       "    </tr>\n",
       "  </thead>\n",
       "  <tbody>\n",
       "    <tr>\n",
       "      <th>668</th>\n",
       "      <td>98</td>\n",
       "      <td>58</td>\n",
       "      <td>33</td>\n",
       "      <td>190</td>\n",
       "      <td>34.0</td>\n",
       "      <td>0.430</td>\n",
       "      <td>43</td>\n",
       "    </tr>\n",
       "    <tr>\n",
       "      <th>324</th>\n",
       "      <td>112</td>\n",
       "      <td>75</td>\n",
       "      <td>32</td>\n",
       "      <td>0</td>\n",
       "      <td>35.7</td>\n",
       "      <td>0.148</td>\n",
       "      <td>21</td>\n",
       "    </tr>\n",
       "    <tr>\n",
       "      <th>624</th>\n",
       "      <td>108</td>\n",
       "      <td>64</td>\n",
       "      <td>0</td>\n",
       "      <td>0</td>\n",
       "      <td>30.8</td>\n",
       "      <td>0.158</td>\n",
       "      <td>21</td>\n",
       "    </tr>\n",
       "    <tr>\n",
       "      <th>690</th>\n",
       "      <td>107</td>\n",
       "      <td>80</td>\n",
       "      <td>0</td>\n",
       "      <td>0</td>\n",
       "      <td>24.6</td>\n",
       "      <td>0.856</td>\n",
       "      <td>34</td>\n",
       "    </tr>\n",
       "    <tr>\n",
       "      <th>473</th>\n",
       "      <td>136</td>\n",
       "      <td>90</td>\n",
       "      <td>0</td>\n",
       "      <td>0</td>\n",
       "      <td>29.9</td>\n",
       "      <td>0.210</td>\n",
       "      <td>50</td>\n",
       "    </tr>\n",
       "    <tr>\n",
       "      <th>...</th>\n",
       "      <td>...</td>\n",
       "      <td>...</td>\n",
       "      <td>...</td>\n",
       "      <td>...</td>\n",
       "      <td>...</td>\n",
       "      <td>...</td>\n",
       "      <td>...</td>\n",
       "    </tr>\n",
       "    <tr>\n",
       "      <th>355</th>\n",
       "      <td>165</td>\n",
       "      <td>88</td>\n",
       "      <td>0</td>\n",
       "      <td>0</td>\n",
       "      <td>30.4</td>\n",
       "      <td>0.302</td>\n",
       "      <td>49</td>\n",
       "    </tr>\n",
       "    <tr>\n",
       "      <th>534</th>\n",
       "      <td>77</td>\n",
       "      <td>56</td>\n",
       "      <td>30</td>\n",
       "      <td>56</td>\n",
       "      <td>33.3</td>\n",
       "      <td>1.251</td>\n",
       "      <td>24</td>\n",
       "    </tr>\n",
       "    <tr>\n",
       "      <th>344</th>\n",
       "      <td>95</td>\n",
       "      <td>72</td>\n",
       "      <td>0</td>\n",
       "      <td>0</td>\n",
       "      <td>36.8</td>\n",
       "      <td>0.485</td>\n",
       "      <td>57</td>\n",
       "    </tr>\n",
       "    <tr>\n",
       "      <th>296</th>\n",
       "      <td>146</td>\n",
       "      <td>70</td>\n",
       "      <td>38</td>\n",
       "      <td>360</td>\n",
       "      <td>28.0</td>\n",
       "      <td>0.337</td>\n",
       "      <td>29</td>\n",
       "    </tr>\n",
       "    <tr>\n",
       "      <th>462</th>\n",
       "      <td>74</td>\n",
       "      <td>70</td>\n",
       "      <td>40</td>\n",
       "      <td>49</td>\n",
       "      <td>35.3</td>\n",
       "      <td>0.705</td>\n",
       "      <td>39</td>\n",
       "    </tr>\n",
       "  </tbody>\n",
       "</table>\n",
       "<p>154 rows × 7 columns</p>\n",
       "</div>"
      ],
      "text/plain": [
       "     Glucose  BloodPressure  SkinThickness  Insulin   BMI  \\\n",
       "668       98             58             33      190  34.0   \n",
       "324      112             75             32        0  35.7   \n",
       "624      108             64              0        0  30.8   \n",
       "690      107             80              0        0  24.6   \n",
       "473      136             90              0        0  29.9   \n",
       "..       ...            ...            ...      ...   ...   \n",
       "355      165             88              0        0  30.4   \n",
       "534       77             56             30       56  33.3   \n",
       "344       95             72              0        0  36.8   \n",
       "296      146             70             38      360  28.0   \n",
       "462       74             70             40       49  35.3   \n",
       "\n",
       "     DiabetesPedigreeFunction  Age  \n",
       "668                     0.430   43  \n",
       "324                     0.148   21  \n",
       "624                     0.158   21  \n",
       "690                     0.856   34  \n",
       "473                     0.210   50  \n",
       "..                        ...  ...  \n",
       "355                     0.302   49  \n",
       "534                     1.251   24  \n",
       "344                     0.485   57  \n",
       "296                     0.337   29  \n",
       "462                     0.705   39  \n",
       "\n",
       "[154 rows x 7 columns]"
      ]
     },
     "execution_count": 20,
     "metadata": {},
     "output_type": "execute_result"
    }
   ],
   "source": [
    "X_test_copy.drop('Pregnancies', axis=1, inplace=True)\n",
    "X_test_copy"
   ]
  },
  {
   "cell_type": "code",
   "execution_count": 27,
   "id": "c5213063",
   "metadata": {},
   "outputs": [],
   "source": [
    "### Random Forest\n",
    "# Train the model\n",
    "model_RandomForest = RandomForestClassifier(max_depth = 7, n_estimators = 95, random_state=42)\n",
    "model_RandomForest.fit(X_train_resampled, y_train_resampled)\n",
    "#Prediction\n",
    "y_pred_RandomForest = model_RandomForest.predict(X_test)      "
   ]
  },
  {
   "cell_type": "code",
   "execution_count": 28,
   "id": "531bb8e6",
   "metadata": {},
   "outputs": [
    {
     "name": "stdout",
     "output_type": "stream",
     "text": [
      "Accuracy: 0.78\n",
      "Precision Score: 0.66\n",
      "Recall Score: 0.78\n",
      "f1 Score: 0.72\n"
     ]
    }
   ],
   "source": [
    "# Accuracy\n",
    "Accuracy_RandomForest = accuracy_score(y_test, y_pred_RandomForest)\n",
    "print(\"Accuracy:\", round(Accuracy_RandomForest,2))\n",
    "# Precision\n",
    "Precision_RandomForest = precision_score(y_test, y_pred_RandomForest, average='binary')\n",
    "print(\"Precision Score:\", round(Precision_RandomForest,2))\n",
    "# Recall\n",
    "recall_RandomForest = recall_score(y_test, y_pred_RandomForest, average='binary')\n",
    "print(\"Recall Score:\", round(recall_RandomForest,2))\n",
    "# f1_score\n",
    "f1_score_RandomForest = f1_score(y_test, y_pred_RandomForest, average='binary')\n",
    "print(\"f1 Score:\", round(f1_score_RandomForest,2))"
   ]
  },
  {
   "cell_type": "code",
   "execution_count": 29,
   "id": "7a4341cc",
   "metadata": {},
   "outputs": [
    {
     "data": {
      "text/plain": [
       "<Axes: >"
      ]
     },
     "execution_count": 29,
     "metadata": {},
     "output_type": "execute_result"
    },
    {
     "data": {
      "image/png": "[encoded data removed]",
      "text/plain": [
       "<Figure size 640x480 with 1 Axes>"
      ]
     },
     "metadata": {},
     "output_type": "display_data"
    }
   ],
   "source": [
    "# Feature Importance\n",
    "pd.Series(model_RandomForest.feature_importances_, index=X.columns).plot(kind='barh')"
   ]
  },
  {
   "cell_type": "markdown",
   "id": "ccfa1bf9",
   "metadata": {},
   "source": [
    "### Save the Best Model"
   ]
  },
  {
   "cell_type": "code",
   "execution_count": 48,
   "id": "b70585cc",
   "metadata": {},
   "outputs": [
    {
     "data": {
      "text/plain": [
       "['model_RandomForest.joblib']"
      ]
     },
     "execution_count": 48,
     "metadata": {},
     "output_type": "execute_result"
    }
   ],
   "source": [
    "# Saving the trained model\n",
    "import joblib\n",
    "joblib.dump(model_RandomForest, \"model_RandomForest.joblib\")"
   ]
  },
  {
   "cell_type": "code",
   "execution_count": 49,
   "id": "70eeef8b",
   "metadata": {},
   "outputs": [
    {
     "data": {
      "text/plain": [
       "array([1, 0, 0, 0, 1, 1, 0, 1, 1, 1, 0, 1, 0, 0, 0, 1, 0, 0, 1, 1, 0, 0,\n",
       "       0, 0, 1, 1, 0, 0, 0, 0, 1, 1, 1, 1, 1, 1, 1, 1, 0, 1, 0, 0, 1, 1,\n",
       "       0, 1, 1, 0, 0, 1, 0, 1, 1, 0, 0, 0, 1, 0, 0, 1, 1, 1, 0, 0, 0, 1,\n",
       "       0, 1, 0, 1, 1, 0, 0, 0, 0, 0, 0, 0, 0, 0, 1, 0, 0, 1, 0, 1, 1, 1,\n",
       "       0, 0, 0, 0, 0, 1, 0, 1, 1, 0, 1, 0, 1, 0, 1, 1, 1, 0, 0, 1, 0, 1,\n",
       "       0, 0, 0, 1, 0, 0, 1, 1, 0, 0, 0, 0, 1, 0, 0, 0, 0, 1, 1, 1, 0, 1,\n",
       "       0, 1, 1, 0, 0, 1, 1, 0, 0, 0, 0, 0, 0, 0, 0, 0, 0, 1, 0, 0, 1, 0])"
      ]
     },
     "execution_count": 49,
     "metadata": {},
     "output_type": "execute_result"
    }
   ],
   "source": [
    "y_pred_RandomForest"
   ]
  },
  {
   "cell_type": "code",
   "execution_count": null,
   "id": "919e9aab",
   "metadata": {},
   "outputs": [],
   "source": []
  }
 ],
 "metadata": {
  "kernelspec": {
   "display_name": "Python 3 (ipykernel)",
   "language": "python",
   "name": "python3"
  },
  "language_info": {
   "codemirror_mode": {
    "name": "ipython",
    "version": 3
   },
   "file_extension": ".py",
   "mimetype": "text/x-python",
   "name": "python",
   "nbconvert_exporter": "python",
   "pygments_lexer": "ipython3",
   "version": "3.11.5"
  }
 },
 "nbformat": 4,
 "nbformat_minor": 5
}
